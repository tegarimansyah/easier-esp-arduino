{
 "cells": [
  {
   "cell_type": "markdown",
   "metadata": {},
   "source": [
    "# Struktur Dasar Arduino\n",
    "\n",
    "```Cpp\n",
    "#include <Arduino.h>\n",
    "// library\n",
    "\n",
    "// Define\n",
    "\n",
    "// Function Declaration\n",
    "\n",
    "// Global Variable\n",
    "\n",
    "void setup() {\n",
    "    // Setup code\n",
    "}\n",
    "\n",
    "void loop() {\n",
    "    // loop code\n",
    "}\n",
    "\n",
    "// Function\n",
    "\n",
    "```"
   ]
  },
  {
   "cell_type": "code",
   "execution_count": 1,
   "metadata": {},
   "outputs": [],
   "source": [
    "library = ['Arduino.h']\n",
    "define = []\n",
    "function_declaration = []\n",
    "global_variable = []\n",
    "setup_code = []\n",
    "function = []"
   ]
  },
  {
   "cell_type": "code",
   "execution_count": 2,
   "metadata": {},
   "outputs": [],
   "source": [
    "def reset():\n",
    "    global library\n",
    "    global define\n",
    "    global function_declaration\n",
    "    global global_variable\n",
    "    global setup_code\n",
    "    global function\n",
    "    \n",
    "    library = ['Arduino.h']\n",
    "    define = []\n",
    "    function_declaration = []\n",
    "    global_variable = []\n",
    "    setup_code = []\n",
    "    function = []"
   ]
  },
  {
   "cell_type": "code",
   "execution_count": 3,
   "metadata": {},
   "outputs": [],
   "source": [
    "def combine():\n",
    "    allcode = ''\n",
    "    for code in library:\n",
    "        allcode += '#include <' + code + '>\\n'\n",
    "    \n",
    "    allcode += '\\nint main() {\\n'\n",
    "    for code in setup_code:\n",
    "        allcode += code\n",
    "    allcode += '\\n}'\n",
    "    \n",
    "    reset()\n",
    "    return allcode"
   ]
  },
  {
   "cell_type": "code",
   "execution_count": 4,
   "metadata": {},
   "outputs": [],
   "source": [
    "class arduino():\n",
    "    using_serial = False\n",
    "    \n",
    "    def use_serial(self, baudrate):\n",
    "        serial = '    Serial.begin(%s);' % (baudrate)\n",
    "        setup_code.append(serial)\n",
    "        self.using_serial = True"
   ]
  },
  {
   "cell_type": "code",
   "execution_count": 5,
   "metadata": {},
   "outputs": [],
   "source": [
    "class esp8266():\n",
    "    \n",
    "    def use_wifi(self, mode, ssid, password, ap_ssid='', ap_pass=''):\n",
    "        lib_wifi = 'ESP8266WIFI.h'\n",
    "        library.append(lib_wifi)\n",
    "        \n",
    "        if mode == 'STA' or mode == 'APSTA':\n",
    "            code = '''\n",
    "    WiFi.begin(%s, %s);\n",
    "    while (WiFi.status() != WL_CONNECTED) {\n",
    "        delay(500);\n",
    "        Serial.print(F(\".\"));\n",
    "    }''' % (ssid, password)\n",
    "        \n",
    "            code += '\\n' + serial('WiFi.localIP()', string = False) +'\\n'\n",
    "            setup_code.append(code)\n",
    "            \n",
    "        if mode == 'AP' or mode == 'APSTA':\n",
    "            if mode == 'AP':\n",
    "                ap_ssid = ssid\n",
    "                ap_pass = password\n",
    "            code = '''\n",
    "    WiFi.softAP(\"%s\", \"%s\") ? %s : %s;\n",
    "            ''' % (ap_ssid, ap_pass, serial('Ready', tab=False), serial('Failed', tab=False))\n",
    "            setup_code.append(code)"
   ]
  },
  {
   "cell_type": "code",
   "execution_count": 6,
   "metadata": {},
   "outputs": [],
   "source": [
    "def serial(text, string = True, tab = True):\n",
    "    if fw.using_serial:\n",
    "        if string:\n",
    "            text = '\"' + text + '\"'\n",
    "            \n",
    "        text = 'Serial.println(F(%s))' % (text)\n",
    "        \n",
    "        if tab:\n",
    "            text = \"    \" + text\n",
    "        return text"
   ]
  },
  {
   "cell_type": "code",
   "execution_count": 7,
   "metadata": {},
   "outputs": [],
   "source": [
    "fw = arduino()\n",
    "board = esp8266()"
   ]
  },
  {
   "cell_type": "code",
   "execution_count": 14,
   "metadata": {},
   "outputs": [],
   "source": [
    "fw.use_serial(11500)"
   ]
  },
  {
   "cell_type": "code",
   "execution_count": 15,
   "metadata": {},
   "outputs": [],
   "source": [
    "board.use_wifi('APSTA', 'http://ngabarin.id', 'namadepanmu', 'esp', 'masukaja')"
   ]
  },
  {
   "cell_type": "code",
   "execution_count": 16,
   "metadata": {
    "scrolled": false
   },
   "outputs": [
    {
     "name": "stdout",
     "output_type": "stream",
     "text": [
      "#include <Arduino.h>\n",
      "#include <ESP8266WIFI.h>\n",
      "\n",
      "int main() {\n",
      "    Serial.begin(11500);\n",
      "    WiFi.begin(http://ngabarin.id, namadepanmu);\n",
      "    while (WiFi.status() != WL_CONNECTED) {\n",
      "        delay(500);\n",
      "        Serial.print(F(\".\"));\n",
      "    }\n",
      "    Serial.println(F(WiFi.localIP()))\n",
      "\n",
      "    WiFi.softAP(\"esp\", \"masukaja\") ? Serial.println(F(\"Ready\")) : Serial.println(F(\"Failed\"));\n",
      "            \n",
      "}\n"
     ]
    }
   ],
   "source": [
    "print(combine())"
   ]
  },
  {
   "cell_type": "code",
   "execution_count": null,
   "metadata": {},
   "outputs": [],
   "source": []
  }
 ],
 "metadata": {
  "kernelspec": {
   "display_name": "Python 3",
   "language": "python",
   "name": "python3"
  },
  "language_info": {
   "codemirror_mode": {
    "name": "ipython",
    "version": 3
   },
   "file_extension": ".py",
   "mimetype": "text/x-python",
   "name": "python",
   "nbconvert_exporter": "python",
   "pygments_lexer": "ipython3",
   "version": "3.6.3"
  }
 },
 "nbformat": 4,
 "nbformat_minor": 2
}
